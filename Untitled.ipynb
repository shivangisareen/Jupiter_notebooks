{
 "cells": [
  {
   "cell_type": "code",
   "execution_count": 3,
   "metadata": {},
   "outputs": [
    {
     "name": "stdout",
     "output_type": "stream",
     "text": [
      "Collecting newspaper3k\n",
      "\u001b[?25l  Downloading https://files.pythonhosted.org/packages/5b/b6/1fcd64fe7a82b8b207a172ed30a6ee58898b245d281d6d53ed782cee1b13/newspaper3k-0.2.6.tar.gz (197kB)\n",
      "\u001b[K    100% |████████████████████████████████| 204kB 5.7MB/s ta 0:00:01\n",
      "\u001b[?25hRequirement already satisfied: beautifulsoup4>=4.4.1 in /Users/shivangisareen/anaconda3/lib/python3.6/site-packages (from newspaper3k) (4.5.3)\n",
      "Requirement already satisfied: Pillow>=3.3.0 in /Users/shivangisareen/anaconda3/lib/python3.6/site-packages (from newspaper3k) (5.0.0)\n",
      "Requirement already satisfied: PyYAML>=3.11 in /Users/shivangisareen/anaconda3/lib/python3.6/site-packages (from newspaper3k) (3.12)\n",
      "Collecting cssselect>=0.9.2 (from newspaper3k)\n",
      "  Downloading https://files.pythonhosted.org/packages/7b/44/25b7283e50585f0b4156960691d951b05d061abf4a714078393e51929b30/cssselect-1.0.3-py2.py3-none-any.whl\n",
      "Requirement already satisfied: lxml>=3.6.0 in /Users/shivangisareen/anaconda3/lib/python3.6/site-packages (from newspaper3k) (4.1.1)\n",
      "Requirement already satisfied: nltk>=3.2.1 in /Users/shivangisareen/anaconda3/lib/python3.6/site-packages (from newspaper3k) (3.2.5)\n",
      "Requirement already satisfied: requests>=2.10.0 in /Users/shivangisareen/anaconda3/lib/python3.6/site-packages (from newspaper3k) (2.18.4)\n",
      "Collecting feedparser>=5.2.1 (from newspaper3k)\n",
      "\u001b[?25l  Downloading https://files.pythonhosted.org/packages/91/d8/7d37fec71ff7c9dbcdd80d2b48bcdd86d6af502156fc93846fb0102cb2c4/feedparser-5.2.1.tar.bz2 (192kB)\n",
      "\u001b[K    100% |████████████████████████████████| 194kB 5.3MB/s ta 0:00:01\n",
      "\u001b[?25hCollecting tldextract>=2.0.1 (from newspaper3k)\n",
      "\u001b[?25l  Downloading https://files.pythonhosted.org/packages/0e/0c/1b7332684dfc2e6311d59cd00859a5318a7e0ba50334ad217ceb9555e213/tldextract-2.2.0-py2.py3-none-any.whl (52kB)\n",
      "\u001b[K    100% |████████████████████████████████| 61kB 18.4MB/s ta 0:00:01\n",
      "\u001b[?25hCollecting feedfinder2>=0.0.4 (from newspaper3k)\n",
      "  Downloading https://files.pythonhosted.org/packages/35/82/1251fefec3bb4b03fd966c7e7f7a41c9fc2bb00d823a34c13f847fd61406/feedfinder2-0.0.4.tar.gz\n",
      "Collecting jieba3k>=0.35.1 (from newspaper3k)\n",
      "\u001b[?25l  Downloading https://files.pythonhosted.org/packages/a9/cb/2c8332bcdc14d33b0bedd18ae0a4981a069c3513e445120da3c3f23a8aaa/jieba3k-0.35.1.zip (7.4MB)\n",
      "\u001b[K    100% |████████████████████████████████| 7.4MB 3.3MB/s ta 0:00:01    34% |███████████▏                    | 2.6MB 6.6MB/s eta 0:00:01\n",
      "\u001b[?25hRequirement already satisfied: python-dateutil>=2.5.3 in /Users/shivangisareen/anaconda3/lib/python3.6/site-packages (from newspaper3k) (2.6.1)\n",
      "Requirement already satisfied: six in /Users/shivangisareen/anaconda3/lib/python3.6/site-packages (from nltk>=3.2.1->newspaper3k) (1.10.0)\n",
      "Requirement already satisfied: chardet<3.1.0,>=3.0.2 in /Users/shivangisareen/anaconda3/lib/python3.6/site-packages (from requests>=2.10.0->newspaper3k) (3.0.4)\n",
      "Requirement already satisfied: idna<2.7,>=2.5 in /Users/shivangisareen/anaconda3/lib/python3.6/site-packages (from requests>=2.10.0->newspaper3k) (2.6)\n",
      "Requirement already satisfied: urllib3<1.23,>=1.21.1 in /Users/shivangisareen/anaconda3/lib/python3.6/site-packages (from requests>=2.10.0->newspaper3k) (1.22)\n",
      "Requirement already satisfied: certifi>=2017.4.17 in /Users/shivangisareen/anaconda3/lib/python3.6/site-packages (from requests>=2.10.0->newspaper3k) (2018.1.18)\n",
      "Collecting requests-file>=1.4 (from tldextract>=2.0.1->newspaper3k)\n",
      "  Downloading https://files.pythonhosted.org/packages/23/9c/6e63c23c39e53d3df41c77a3d05a49a42c4e1383a6d2a5e3233161b89dbf/requests_file-1.4.3-py2.py3-none-any.whl\n",
      "Requirement already satisfied: setuptools in /Users/shivangisareen/anaconda3/lib/python3.6/site-packages (from tldextract>=2.0.1->newspaper3k) (38.4.0)\n",
      "Building wheels for collected packages: newspaper3k, feedparser, feedfinder2, jieba3k\n",
      "  Running setup.py bdist_wheel for newspaper3k ... \u001b[?25ldone\n",
      "\u001b[?25h  Stored in directory: /Users/shivangisareen/Library/Caches/pip/wheels/8c/c4/4a/e445c83be323b5217941405848bab6f8a3d7ccbdd0d05a4d6f\n",
      "  Running setup.py bdist_wheel for feedparser ... \u001b[?25ldone\n",
      "\u001b[?25h  Stored in directory: /Users/shivangisareen/Library/Caches/pip/wheels/8c/69/b7/f52763c41c5471df57703a0ef718a32a5e81ee35dcf6d4f97f\n",
      "  Running setup.py bdist_wheel for feedfinder2 ... \u001b[?25ldone\n",
      "\u001b[?25h  Stored in directory: /Users/shivangisareen/Library/Caches/pip/wheels/de/03/ca/778e3a7a627e3d98836cc890e7cb40c7575424cfd3340f40ed\n",
      "  Running setup.py bdist_wheel for jieba3k ... \u001b[?25ldone\n",
      "\u001b[?25h  Stored in directory: /Users/shivangisareen/Library/Caches/pip/wheels/83/15/9c/a3f1f67e7f7181170ad37d32e503c35da20627c013f438ed34\n",
      "Successfully built newspaper3k feedparser feedfinder2 jieba3k\n",
      "\u001b[31mtensorboard 1.8.0 has requirement html5lib==0.9999999, but you'll have html5lib 1.0.1 which is incompatible.\u001b[0m\n",
      "\u001b[31mbleach 1.5.0 has requirement html5lib!=0.9999,!=0.99999,<0.99999999,>=0.999, but you'll have html5lib 1.0.1 which is incompatible.\u001b[0m\n",
      "Installing collected packages: cssselect, feedparser, requests-file, tldextract, feedfinder2, jieba3k, newspaper3k\n",
      "Successfully installed cssselect-1.0.3 feedfinder2-0.0.4 feedparser-5.2.1 jieba3k-0.35.1 newspaper3k-0.2.6 requests-file-1.4.3 tldextract-2.2.0\n"
     ]
    }
   ],
   "source": [
    "!pip3 install newspaper3k"
   ]
  },
  {
   "cell_type": "code",
   "execution_count": 5,
   "metadata": {},
   "outputs": [],
   "source": [
    "import newspaper"
   ]
  },
  {
   "cell_type": "code",
   "execution_count": null,
   "metadata": {},
   "outputs": [],
   "source": []
  }
 ],
 "metadata": {
  "kernelspec": {
   "display_name": "Python 3",
   "language": "python",
   "name": "python3"
  },
  "language_info": {
   "codemirror_mode": {
    "name": "ipython",
    "version": 3
   },
   "file_extension": ".py",
   "mimetype": "text/x-python",
   "name": "python",
   "nbconvert_exporter": "python",
   "pygments_lexer": "ipython3",
   "version": "3.6.4"
  }
 },
 "nbformat": 4,
 "nbformat_minor": 2
}
