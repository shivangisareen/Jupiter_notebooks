{
 "cells": [
  {
   "cell_type": "code",
   "execution_count": 7,
   "metadata": {
    "scrolled": false
   },
   "outputs": [
    {
     "name": "stdout",
     "output_type": "stream",
     "text": [
      "Collecting pdfcrowd\n",
      "  Downloading https://files.pythonhosted.org/packages/0e/ab/b93626b04a2d2cd5bf97c7f9a334acccc59f57b30608be7d125467b2eedc/pdfcrowd-4.3.5.tar.gz\n",
      "Building wheels for collected packages: pdfcrowd\n",
      "  Running setup.py bdist_wheel for pdfcrowd ... \u001b[?25ldone\n",
      "\u001b[?25h  Stored in directory: /Users/shivangisareen/Library/Caches/pip/wheels/22/91/28/90ea178ed8de6399480e0cae2ee7d1ce87578629bca463e4bf\n",
      "Successfully built pdfcrowd\n",
      "\u001b[31mtensorboard 1.8.0 has requirement html5lib==0.9999999, but you'll have html5lib 1.0.1 which is incompatible.\u001b[0m\n",
      "\u001b[31mbleach 1.5.0 has requirement html5lib!=0.9999,!=0.99999,<0.99999999,>=0.999, but you'll have html5lib 1.0.1 which is incompatible.\u001b[0m\n",
      "Installing collected packages: pdfcrowd\n",
      "Successfully installed pdfcrowd-4.3.5\n"
     ]
    }
   ],
   "source": [
    "!pip install pdfcrowd"
   ]
  },
  {
   "cell_type": "code",
   "execution_count": 1,
   "metadata": {},
   "outputs": [],
   "source": [
    "import pdfcrowd"
   ]
  },
  {
   "cell_type": "code",
   "execution_count": 2,
   "metadata": {},
   "outputs": [],
   "source": [
    "import sys"
   ]
  },
  {
   "cell_type": "code",
   "execution_count": 5,
   "metadata": {},
   "outputs": [],
   "source": [
    "try: \n",
    "    client=pdfcrowd.HtmlToPdfClient('shivangis','6105a61db63f75cc72327040815899d3')\n",
    "    client.convertUrlToFile('https://en.wikipedia.org/wiki/Flower', 'flower.pdf')\n",
    "    \n",
    "except pdfcrowd.Error as why:\n",
    "    sys.stderr.write('Pdfcrowd Error: {}\\n'.format(why))\n"
   ]
  },
  {
   "cell_type": "code",
   "execution_count": null,
   "metadata": {},
   "outputs": [],
   "source": []
  }
 ],
 "metadata": {
  "kernelspec": {
   "display_name": "Python 3",
   "language": "python",
   "name": "python3"
  },
  "language_info": {
   "codemirror_mode": {
    "name": "ipython",
    "version": 3
   },
   "file_extension": ".py",
   "mimetype": "text/x-python",
   "name": "python",
   "nbconvert_exporter": "python",
   "pygments_lexer": "ipython3",
   "version": "3.6.4"
  }
 },
 "nbformat": 4,
 "nbformat_minor": 2
}
